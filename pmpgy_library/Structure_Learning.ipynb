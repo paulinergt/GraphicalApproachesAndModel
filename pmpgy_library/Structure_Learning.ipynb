{
 "cells": [
  {
   "cell_type": "markdown",
   "metadata": {},
   "source": [
    "# Structure Learning in Bayesian Networks"
   ]
  },
  {
   "cell_type": "markdown",
   "metadata": {},
   "source": [
    "In this notebook, we show a few examples of Causal Discovery or Structure Learning in pgmpy. pgmpy currently has the following algorithm for causal discovery:\n",
    "\n",
    "1. **PC**: Has $3$ variants original, stable, and parallel. PC is a constraint-based algorithm that utilizes Conditional Independence tests to construct the model.\n",
    "2. **Hill-Climb Search**: Hill-Climb Search is a greedy optimization-based algorithm that makes iterative local changes to the model structure such that it improves the overall score of the model.\n",
    "3. **Greedy Equivalence Search (GES)**: Another score-based method that makes greedy modifications to the model to improve its score iteratively.\n",
    "4. **ExpertInLoop**: An iterative algorithm that combines Conditional Independence testing with expert knowledge. The user or an LLM can act as the expert.\n",
    "5. **Exhaustive Search**: Exhaustive search iterates over all possible network structures on the given variables to find the most optimal one. As it tries to enumerate all possible network structures, it is intractable when the number of variables in the data is large.\n",
    "\n",
    "The following Conditional Independence Tests are available to use with PC algorithm.\n",
    "1. **Discrete Data**: When all variables are discrete/categorical.\n",
    "    1. **Chi-square test**: `ci_test=\"chi_square\"`\n",
    "    2. **G-squared**: `ci_test=\"g_sq\"`\n",
    "    3. **Log-likelihood**: Is equivalent to G-squared test. `ci_test=\"log_likelihood`\n",
    "2. **Continuous Data**: When all variables are continuous/numerical.\n",
    "    1. **Partial Correlation**: `ci_test=\"pearsonr\"`\n",
    "3. **Mixed Data**: When there is a mix of categorical and continuous variables.\n",
    "    1. **Pillai**: `ci_test=\"pillai\"`\n",
    "\n",
    "For Hill-Climb, Exhausitive Search, and GES the following scoring methods can be used:\n",
    "1. **Discrete Data**: When all variables are discrete/categorical. \n",
    "    1. **BIC Score**: `scoring_method=\"bic-d\"`\n",
    "    2. **AIC Score**: `scoring_method=\"aic-d\"`\n",
    "    3. **K2 Score**: `scoring_method=\"k2\"`\n",
    "    4. **BDeU Score**: `scoring_method=\"bdeu\"`\n",
    "    5. **BDs Score**: `scoring_method=\"bds\"`\n",
    "2. **Continuous Data**: When all variables are continuous/numerical.\n",
    "    1. **Log-Likelihood**: `scoring_method=\"ll-g\"`\n",
    "    2. **AIC**: `scoring_method=\"aic-g\"`\n",
    "    3. **BIC**: `scoring_method=\"bic-g\"`\n",
    "3. **Mixed Data**: When there is a mix of discrete and continuous variables.\n",
    "    1. **AIC**: `scoring_method=\"aic-cg\"`\n",
    "    2. **BIC**: `scoring_method=\"bic-cg\"`"
   ]
  },
  {
   "cell_type": "markdown",
   "metadata": {},
   "source": [
    "## 0. Simulate some sample datasets"
   ]
  },
  {
   "cell_type": "code",
   "execution_count": 23,
   "metadata": {},
   "outputs": [
    {
     "name": "stdout",
     "output_type": "stream",
     "text": [
      "✅ Imports pgmpy réussis!\n",
      "Version pgmpy: 1.0.0\n",
      "Chemin: /Users/remyplastre/Desktop/IMT ALES 2024-2025/3A/9.2 Advanced_ML/.venv/lib/python3.12/site-packages/pgmpy/__init__.py\n",
      "✅ GES disponible!\n",
      "✅ SHD disponible!\n"
     ]
    }
   ],
   "source": [
    "import sys\n",
    "import importlib\n",
    "\n",
    "# Forcer le rechargement des modules pgmpy pour éviter les conflits de version\n",
    "modules_to_reload = [module for module in sys.modules.keys() if module.startswith('pgmpy')]\n",
    "for module in modules_to_reload:\n",
    "    if module in sys.modules:\n",
    "        del sys.modules[module]\n",
    "\n",
    "# Imports principaux\n",
    "from itertools import combinations\n",
    "import networkx as nx\n",
    "import numpy as np\n",
    "from sklearn.metrics import f1_score\n",
    "\n",
    "# Imports pgmpy avec gestion d'erreur\n",
    "try:\n",
    "    from pgmpy.estimators import PC, HillClimbSearch\n",
    "    from pgmpy.utils import get_example_model\n",
    "    print(\"✅ Imports pgmpy réussis!\")\n",
    "    \n",
    "    # Test de version\n",
    "    import pgmpy\n",
    "    print(f\"Version pgmpy: {pgmpy.__version__}\")\n",
    "    print(f\"Chemin: {pgmpy.__file__}\")\n",
    "    \n",
    "except ImportError as e:\n",
    "    print(f\"❌ Erreur import pgmpy: {e}\")\n",
    "\n",
    "# Tentative d'import de GES et SHD\n",
    "try:\n",
    "    from pgmpy.estimators import GES\n",
    "    print(\"✅ GES disponible!\")\n",
    "except ImportError:\n",
    "    print(\"❌ GES non disponible dans cette version\")\n",
    "\n",
    "try:\n",
    "    from pgmpy.metrics import SHD\n",
    "    print(\"✅ SHD disponible!\")\n",
    "except ImportError:\n",
    "    print(\"❌ SHD non disponible dans cette version\")"
   ]
  },
  {
   "cell_type": "code",
   "execution_count": 24,
   "metadata": {},
   "outputs": [
    {
     "data": {
      "application/vnd.jupyter.widget-view+json": {
       "model_id": "2a919edf8392478784be1155aa939dc8",
       "version_major": 2,
       "version_minor": 0
      },
      "text/plain": [
       "  0%|          | 0/37 [00:00<?, ?it/s]"
      ]
     },
     "metadata": {},
     "output_type": "display_data"
    },
    {
     "name": "stderr",
     "output_type": "stream",
     "text": [
      "WARNING:pgmpy:Probability values don't exactly sum to 1. Differ by: -2.220446049250313e-16. Adjusting values.\n"
     ]
    },
    {
     "data": {
      "text/html": [
       "<div>\n",
       "<style scoped>\n",
       "    .dataframe tbody tr th:only-of-type {\n",
       "        vertical-align: middle;\n",
       "    }\n",
       "\n",
       "    .dataframe tbody tr th {\n",
       "        vertical-align: top;\n",
       "    }\n",
       "\n",
       "    .dataframe thead th {\n",
       "        text-align: right;\n",
       "    }\n",
       "</style>\n",
       "<table border=\"1\" class=\"dataframe\">\n",
       "  <thead>\n",
       "    <tr style=\"text-align: right;\">\n",
       "      <th></th>\n",
       "      <th>b1191</th>\n",
       "      <th>cspG</th>\n",
       "      <th>eutG</th>\n",
       "      <th>fixC</th>\n",
       "      <th>cspA</th>\n",
       "      <th>yecO</th>\n",
       "      <th>yedE</th>\n",
       "      <th>sucA</th>\n",
       "      <th>cchB</th>\n",
       "      <th>yceP</th>\n",
       "      <th>...</th>\n",
       "      <th>dnaK</th>\n",
       "      <th>folK</th>\n",
       "      <th>ycgX</th>\n",
       "      <th>lacZ</th>\n",
       "      <th>nuoM</th>\n",
       "      <th>dnaG</th>\n",
       "      <th>b1583</th>\n",
       "      <th>mopB</th>\n",
       "      <th>yaeM</th>\n",
       "      <th>ftsJ</th>\n",
       "    </tr>\n",
       "  </thead>\n",
       "  <tbody>\n",
       "    <tr>\n",
       "      <th>0</th>\n",
       "      <td>2.912978</td>\n",
       "      <td>1.544210</td>\n",
       "      <td>1.298251</td>\n",
       "      <td>2.440741</td>\n",
       "      <td>-1.017506</td>\n",
       "      <td>1.214050</td>\n",
       "      <td>-1.002049</td>\n",
       "      <td>-3.202744</td>\n",
       "      <td>1.993406</td>\n",
       "      <td>1.325494</td>\n",
       "      <td>...</td>\n",
       "      <td>2.259142</td>\n",
       "      <td>2.995049</td>\n",
       "      <td>3.035647</td>\n",
       "      <td>0.570346</td>\n",
       "      <td>-2.721062</td>\n",
       "      <td>2.427217</td>\n",
       "      <td>1.236712</td>\n",
       "      <td>0.633016</td>\n",
       "      <td>1.399894</td>\n",
       "      <td>1.148165</td>\n",
       "    </tr>\n",
       "    <tr>\n",
       "      <th>1</th>\n",
       "      <td>1.771840</td>\n",
       "      <td>2.855767</td>\n",
       "      <td>0.430767</td>\n",
       "      <td>4.363548</td>\n",
       "      <td>-0.041304</td>\n",
       "      <td>2.706498</td>\n",
       "      <td>-1.595230</td>\n",
       "      <td>-1.157455</td>\n",
       "      <td>4.008712</td>\n",
       "      <td>-0.755982</td>\n",
       "      <td>...</td>\n",
       "      <td>0.230434</td>\n",
       "      <td>1.188684</td>\n",
       "      <td>0.348016</td>\n",
       "      <td>1.988618</td>\n",
       "      <td>0.440087</td>\n",
       "      <td>-0.001910</td>\n",
       "      <td>2.800016</td>\n",
       "      <td>-1.035936</td>\n",
       "      <td>5.540998</td>\n",
       "      <td>-0.188362</td>\n",
       "    </tr>\n",
       "    <tr>\n",
       "      <th>2</th>\n",
       "      <td>1.216198</td>\n",
       "      <td>3.986883</td>\n",
       "      <td>0.382220</td>\n",
       "      <td>2.578750</td>\n",
       "      <td>1.090017</td>\n",
       "      <td>3.290451</td>\n",
       "      <td>-2.361588</td>\n",
       "      <td>-0.759321</td>\n",
       "      <td>2.900903</td>\n",
       "      <td>-1.176880</td>\n",
       "      <td>...</td>\n",
       "      <td>0.751014</td>\n",
       "      <td>2.182816</td>\n",
       "      <td>1.196445</td>\n",
       "      <td>0.446093</td>\n",
       "      <td>-3.031777</td>\n",
       "      <td>1.294519</td>\n",
       "      <td>1.116771</td>\n",
       "      <td>0.220810</td>\n",
       "      <td>5.299863</td>\n",
       "      <td>0.930846</td>\n",
       "    </tr>\n",
       "    <tr>\n",
       "      <th>3</th>\n",
       "      <td>0.700455</td>\n",
       "      <td>2.743655</td>\n",
       "      <td>-0.115917</td>\n",
       "      <td>0.048193</td>\n",
       "      <td>-1.315601</td>\n",
       "      <td>1.809851</td>\n",
       "      <td>-1.557221</td>\n",
       "      <td>-0.997097</td>\n",
       "      <td>0.392430</td>\n",
       "      <td>-0.621334</td>\n",
       "      <td>...</td>\n",
       "      <td>-0.500267</td>\n",
       "      <td>0.525134</td>\n",
       "      <td>-0.302998</td>\n",
       "      <td>1.150075</td>\n",
       "      <td>-1.080963</td>\n",
       "      <td>0.147406</td>\n",
       "      <td>0.981723</td>\n",
       "      <td>-0.897861</td>\n",
       "      <td>5.218121</td>\n",
       "      <td>0.813430</td>\n",
       "    </tr>\n",
       "    <tr>\n",
       "      <th>4</th>\n",
       "      <td>1.103168</td>\n",
       "      <td>2.194084</td>\n",
       "      <td>0.679392</td>\n",
       "      <td>1.581695</td>\n",
       "      <td>-1.627669</td>\n",
       "      <td>2.106148</td>\n",
       "      <td>-2.324132</td>\n",
       "      <td>-1.849691</td>\n",
       "      <td>1.717479</td>\n",
       "      <td>0.359200</td>\n",
       "      <td>...</td>\n",
       "      <td>0.381274</td>\n",
       "      <td>1.433114</td>\n",
       "      <td>0.808271</td>\n",
       "      <td>1.881789</td>\n",
       "      <td>-0.752126</td>\n",
       "      <td>0.351351</td>\n",
       "      <td>1.276608</td>\n",
       "      <td>-0.550673</td>\n",
       "      <td>3.962497</td>\n",
       "      <td>0.189979</td>\n",
       "    </tr>\n",
       "  </tbody>\n",
       "</table>\n",
       "<p>5 rows × 46 columns</p>\n",
       "</div>"
      ],
      "text/plain": [
       "      b1191      cspG      eutG      fixC      cspA      yecO      yedE  \\\n",
       "0  2.912978  1.544210  1.298251  2.440741 -1.017506  1.214050 -1.002049   \n",
       "1  1.771840  2.855767  0.430767  4.363548 -0.041304  2.706498 -1.595230   \n",
       "2  1.216198  3.986883  0.382220  2.578750  1.090017  3.290451 -2.361588   \n",
       "3  0.700455  2.743655 -0.115917  0.048193 -1.315601  1.809851 -1.557221   \n",
       "4  1.103168  2.194084  0.679392  1.581695 -1.627669  2.106148 -2.324132   \n",
       "\n",
       "       sucA      cchB      yceP  ...      dnaK      folK      ycgX      lacZ  \\\n",
       "0 -3.202744  1.993406  1.325494  ...  2.259142  2.995049  3.035647  0.570346   \n",
       "1 -1.157455  4.008712 -0.755982  ...  0.230434  1.188684  0.348016  1.988618   \n",
       "2 -0.759321  2.900903 -1.176880  ...  0.751014  2.182816  1.196445  0.446093   \n",
       "3 -0.997097  0.392430 -0.621334  ... -0.500267  0.525134 -0.302998  1.150075   \n",
       "4 -1.849691  1.717479  0.359200  ...  0.381274  1.433114  0.808271  1.881789   \n",
       "\n",
       "       nuoM      dnaG     b1583      mopB      yaeM      ftsJ  \n",
       "0 -2.721062  2.427217  1.236712  0.633016  1.399894  1.148165  \n",
       "1  0.440087 -0.001910  2.800016 -1.035936  5.540998 -0.188362  \n",
       "2 -3.031777  1.294519  1.116771  0.220810  5.299863  0.930846  \n",
       "3 -1.080963  0.147406  0.981723 -0.897861  5.218121  0.813430  \n",
       "4 -0.752126  0.351351  1.276608 -0.550673  3.962497  0.189979  \n",
       "\n",
       "[5 rows x 46 columns]"
      ]
     },
     "execution_count": 24,
     "metadata": {},
     "output_type": "execute_result"
    }
   ],
   "source": [
    "# Discrete variable dataset\n",
    "alarm_model = get_example_model(\"alarm\")\n",
    "alarm_samples = alarm_model.simulate(int(1e3))\n",
    "alarm_samples.head()\n",
    "\n",
    "# Continuous variable dataset\n",
    "ecoli_model = get_example_model(\"ecoli70\")\n",
    "ecoli_samples = ecoli_model.simulate(int(1e3))\n",
    "ecoli_samples.head()"
   ]
  },
  {
   "cell_type": "code",
   "execution_count": 25,
   "metadata": {},
   "outputs": [],
   "source": [
    "# Function to evaluate the learned model structures.\n",
    "def get_f1_score(estimated_model, true_model):\n",
    "    nodes = estimated_model.nodes()\n",
    "    est_adj = nx.to_numpy_array(\n",
    "        estimated_model.to_undirected(), nodelist=nodes, weight=None\n",
    "    )\n",
    "    true_adj = nx.to_numpy_array(\n",
    "        true_model.to_undirected(), nodelist=nodes, weight=None\n",
    "    )\n",
    "\n",
    "    f1 = f1_score(np.ravel(true_adj), np.ravel(est_adj))\n",
    "    print(\"F1-score for the model skeleton: \", f1)"
   ]
  },
  {
   "cell_type": "markdown",
   "metadata": {},
   "source": [
    "## 1. PC algorithm"
   ]
  },
  {
   "cell_type": "code",
   "execution_count": 4,
   "metadata": {},
   "outputs": [
    {
     "name": "stderr",
     "output_type": "stream",
     "text": [
      "INFO:pgmpy: Datatype (N=numerical, C=Categorical Unordered, O=Categorical Ordered) inferred from data: \n",
      " {'INTUBATION': 'C', 'ANAPHYLAXIS': 'C', 'VENTLUNG': 'C', 'HISTORY': 'C', 'LVEDVOLUME': 'C', 'VENTMACH': 'C', 'TPR': 'C', 'MINVOL': 'C', 'VENTTUBE': 'C', 'HRBP': 'C', 'BP': 'C', 'PAP': 'C', 'PULMEMBOLUS': 'C', 'DISCONNECT': 'C', 'ERRLOWOUTPUT': 'C', 'HYPOVOLEMIA': 'C', 'CVP': 'C', 'HREKG': 'C', 'CO': 'C', 'PRESS': 'C', 'HRSAT': 'C', 'CATECHOL': 'C', 'EXPCO2': 'C', 'PVSAT': 'C', 'ARTCO2': 'C', 'LVFAILURE': 'C', 'KINKEDTUBE': 'C', 'VENTALV': 'C', 'FIO2': 'C', 'SHUNT': 'C', 'PCWP': 'C', 'SAO2': 'C', 'HR': 'C', 'MINVOLSET': 'C', 'STROKEVOLUME': 'C', 'INSUFFANESTH': 'C', 'ERRCAUTER': 'C'}\n"
     ]
    },
    {
     "data": {
      "application/vnd.jupyter.widget-view+json": {
       "model_id": "c277a6a8093a4592a2a3bbf953cb5f27",
       "version_major": 2,
       "version_minor": 0
      },
      "text/plain": [
       "  0%|          | 0/5 [00:00<?, ?it/s]"
      ]
     },
     "metadata": {},
     "output_type": "display_data"
    },
    {
     "name": "stderr",
     "output_type": "stream",
     "text": [
      "INFO:pgmpy:Reached maximum number of allowed conditional variables. Exiting\n"
     ]
    },
    {
     "name": "stdout",
     "output_type": "stream",
     "text": [
      "F1-score for the model skeleton:  0.825\n"
     ]
    }
   ],
   "source": [
    "# Learning the discrete variable alarm model back\n",
    "\n",
    "est = PC(data=alarm_samples)\n",
    "estimated_model = est.estimate(ci_test='chi_square', variant=\"stable\", max_cond_vars=4, return_type='dag')\n",
    "get_f1_score(estimated_model, alarm_model)"
   ]
  },
  {
   "cell_type": "code",
   "execution_count": 5,
   "metadata": {},
   "outputs": [
    {
     "name": "stderr",
     "output_type": "stream",
     "text": [
      "INFO:pgmpy: Datatype (N=numerical, C=Categorical Unordered, O=Categorical Ordered) inferred from data: \n",
      " {'b1191': 'N', 'cspG': 'N', 'eutG': 'N', 'fixC': 'N', 'cspA': 'N', 'yecO': 'N', 'yedE': 'N', 'sucA': 'N', 'cchB': 'N', 'yceP': 'N', 'ygbD': 'N', 'yjbO': 'N', 'yfiA': 'N', 'lpdA': 'N', 'pspB': 'N', 'atpG': 'N', 'dnaJ': 'N', 'flgD': 'N', 'gltA': 'N', 'sucD': 'N', 'tnaA': 'N', 'ygcE': 'N', 'yhdM': 'N', 'ibpB': 'N', 'yfaD': 'N', 'hupB': 'N', 'pspA': 'N', 'asnA': 'N', 'atpD': 'N', 'nmpC': 'N', 'icdA': 'N', 'lacA': 'N', 'yheI': 'N', 'aceB': 'N', 'lacY': 'N', 'b1963': 'N', 'dnaK': 'N', 'folK': 'N', 'ycgX': 'N', 'lacZ': 'N', 'nuoM': 'N', 'dnaG': 'N', 'b1583': 'N', 'mopB': 'N', 'yaeM': 'N', 'ftsJ': 'N'}\n"
     ]
    },
    {
     "data": {
      "application/vnd.jupyter.widget-view+json": {
       "model_id": "a3b6e02f74ff48fcaa9b4d2efd710852",
       "version_major": 2,
       "version_minor": 0
      },
      "text/plain": [
       "  0%|          | 0/5 [00:00<?, ?it/s]"
      ]
     },
     "metadata": {},
     "output_type": "display_data"
    },
    {
     "name": "stderr",
     "output_type": "stream",
     "text": [
      "INFO:pgmpy:Reached maximum number of allowed conditional variables. Exiting\n"
     ]
    },
    {
     "name": "stdout",
     "output_type": "stream",
     "text": [
      "F1-score for the model skeleton:  0.640625\n"
     ]
    }
   ],
   "source": [
    "# Learning the continuous variable ecoli model back\n",
    "\n",
    "est = PC(data=ecoli_samples)\n",
    "estimated_model = est.estimate(ci_test='pearsonr', variant=\"orig\", max_cond_vars=4, return_type='dag')\n",
    "get_f1_score(estimated_model, ecoli_model)"
   ]
  },
  {
   "cell_type": "markdown",
   "metadata": {},
   "source": [
    "## 2. Hill-Climb Search Algorithm"
   ]
  },
  {
   "cell_type": "code",
   "execution_count": 6,
   "metadata": {},
   "outputs": [
    {
     "name": "stderr",
     "output_type": "stream",
     "text": [
      "INFO:pgmpy: Datatype (N=numerical, C=Categorical Unordered, O=Categorical Ordered) inferred from data: \n",
      " {'INTUBATION': 'C', 'ANAPHYLAXIS': 'C', 'VENTLUNG': 'C', 'HISTORY': 'C', 'LVEDVOLUME': 'C', 'VENTMACH': 'C', 'TPR': 'C', 'MINVOL': 'C', 'VENTTUBE': 'C', 'HRBP': 'C', 'BP': 'C', 'PAP': 'C', 'PULMEMBOLUS': 'C', 'DISCONNECT': 'C', 'ERRLOWOUTPUT': 'C', 'HYPOVOLEMIA': 'C', 'CVP': 'C', 'HREKG': 'C', 'CO': 'C', 'PRESS': 'C', 'HRSAT': 'C', 'CATECHOL': 'C', 'EXPCO2': 'C', 'PVSAT': 'C', 'ARTCO2': 'C', 'LVFAILURE': 'C', 'KINKEDTUBE': 'C', 'VENTALV': 'C', 'FIO2': 'C', 'SHUNT': 'C', 'PCWP': 'C', 'SAO2': 'C', 'HR': 'C', 'MINVOLSET': 'C', 'STROKEVOLUME': 'C', 'INSUFFANESTH': 'C', 'ERRCAUTER': 'C'}\n",
      "INFO:pgmpy: Datatype (N=numerical, C=Categorical Unordered, O=Categorical Ordered) inferred from data: \n",
      " {'INTUBATION': 'C', 'ANAPHYLAXIS': 'C', 'VENTLUNG': 'C', 'HISTORY': 'C', 'LVEDVOLUME': 'C', 'VENTMACH': 'C', 'TPR': 'C', 'MINVOL': 'C', 'VENTTUBE': 'C', 'HRBP': 'C', 'BP': 'C', 'PAP': 'C', 'PULMEMBOLUS': 'C', 'DISCONNECT': 'C', 'ERRLOWOUTPUT': 'C', 'HYPOVOLEMIA': 'C', 'CVP': 'C', 'HREKG': 'C', 'CO': 'C', 'PRESS': 'C', 'HRSAT': 'C', 'CATECHOL': 'C', 'EXPCO2': 'C', 'PVSAT': 'C', 'ARTCO2': 'C', 'LVFAILURE': 'C', 'KINKEDTUBE': 'C', 'VENTALV': 'C', 'FIO2': 'C', 'SHUNT': 'C', 'PCWP': 'C', 'SAO2': 'C', 'HR': 'C', 'MINVOLSET': 'C', 'STROKEVOLUME': 'C', 'INSUFFANESTH': 'C', 'ERRCAUTER': 'C'}\n",
      "INFO:pgmpy: Datatype (N=numerical, C=Categorical Unordered, O=Categorical Ordered) inferred from data: \n",
      " {'INTUBATION': 'C', 'ANAPHYLAXIS': 'C', 'VENTLUNG': 'C', 'HISTORY': 'C', 'LVEDVOLUME': 'C', 'VENTMACH': 'C', 'TPR': 'C', 'MINVOL': 'C', 'VENTTUBE': 'C', 'HRBP': 'C', 'BP': 'C', 'PAP': 'C', 'PULMEMBOLUS': 'C', 'DISCONNECT': 'C', 'ERRLOWOUTPUT': 'C', 'HYPOVOLEMIA': 'C', 'CVP': 'C', 'HREKG': 'C', 'CO': 'C', 'PRESS': 'C', 'HRSAT': 'C', 'CATECHOL': 'C', 'EXPCO2': 'C', 'PVSAT': 'C', 'ARTCO2': 'C', 'LVFAILURE': 'C', 'KINKEDTUBE': 'C', 'VENTALV': 'C', 'FIO2': 'C', 'SHUNT': 'C', 'PCWP': 'C', 'SAO2': 'C', 'HR': 'C', 'MINVOLSET': 'C', 'STROKEVOLUME': 'C', 'INSUFFANESTH': 'C', 'ERRCAUTER': 'C'}\n"
     ]
    },
    {
     "data": {
      "application/vnd.jupyter.widget-view+json": {
       "model_id": "fb1cfeeaedad4c6fad37acd97fa383b0",
       "version_major": 2,
       "version_minor": 0
      },
      "text/plain": [
       "  0%|          | 0/10000 [00:00<?, ?it/s]"
      ]
     },
     "metadata": {},
     "output_type": "display_data"
    },
    {
     "name": "stdout",
     "output_type": "stream",
     "text": [
      "F1-score for the model skeleton:  0.7719298245614035\n"
     ]
    }
   ],
   "source": [
    "# Learning the discrete variable alarm model back\n",
    "\n",
    "est = HillClimbSearch(data=alarm_samples)\n",
    "estimated_model = est.estimate(scoring_method=\"k2\", max_indegree=4, max_iter=int(1e4))\n",
    "get_f1_score(estimated_model, alarm_model)"
   ]
  },
  {
   "cell_type": "code",
   "execution_count": 7,
   "metadata": {},
   "outputs": [
    {
     "name": "stderr",
     "output_type": "stream",
     "text": [
      "INFO:pgmpy: Datatype (N=numerical, C=Categorical Unordered, O=Categorical Ordered) inferred from data: \n",
      " {'b1191': 'N', 'cspG': 'N', 'eutG': 'N', 'fixC': 'N', 'cspA': 'N', 'yecO': 'N', 'yedE': 'N', 'sucA': 'N', 'cchB': 'N', 'yceP': 'N', 'ygbD': 'N', 'yjbO': 'N', 'yfiA': 'N', 'lpdA': 'N', 'pspB': 'N', 'atpG': 'N', 'dnaJ': 'N', 'flgD': 'N', 'gltA': 'N', 'sucD': 'N', 'tnaA': 'N', 'ygcE': 'N', 'yhdM': 'N', 'ibpB': 'N', 'yfaD': 'N', 'hupB': 'N', 'pspA': 'N', 'asnA': 'N', 'atpD': 'N', 'nmpC': 'N', 'icdA': 'N', 'lacA': 'N', 'yheI': 'N', 'aceB': 'N', 'lacY': 'N', 'b1963': 'N', 'dnaK': 'N', 'folK': 'N', 'ycgX': 'N', 'lacZ': 'N', 'nuoM': 'N', 'dnaG': 'N', 'b1583': 'N', 'mopB': 'N', 'yaeM': 'N', 'ftsJ': 'N'}\n",
      "INFO:pgmpy: Datatype (N=numerical, C=Categorical Unordered, O=Categorical Ordered) inferred from data: \n",
      " {'b1191': 'N', 'cspG': 'N', 'eutG': 'N', 'fixC': 'N', 'cspA': 'N', 'yecO': 'N', 'yedE': 'N', 'sucA': 'N', 'cchB': 'N', 'yceP': 'N', 'ygbD': 'N', 'yjbO': 'N', 'yfiA': 'N', 'lpdA': 'N', 'pspB': 'N', 'atpG': 'N', 'dnaJ': 'N', 'flgD': 'N', 'gltA': 'N', 'sucD': 'N', 'tnaA': 'N', 'ygcE': 'N', 'yhdM': 'N', 'ibpB': 'N', 'yfaD': 'N', 'hupB': 'N', 'pspA': 'N', 'asnA': 'N', 'atpD': 'N', 'nmpC': 'N', 'icdA': 'N', 'lacA': 'N', 'yheI': 'N', 'aceB': 'N', 'lacY': 'N', 'b1963': 'N', 'dnaK': 'N', 'folK': 'N', 'ycgX': 'N', 'lacZ': 'N', 'nuoM': 'N', 'dnaG': 'N', 'b1583': 'N', 'mopB': 'N', 'yaeM': 'N', 'ftsJ': 'N'}\n",
      "INFO:pgmpy: Datatype (N=numerical, C=Categorical Unordered, O=Categorical Ordered) inferred from data: \n",
      " {'b1191': 'N', 'cspG': 'N', 'eutG': 'N', 'fixC': 'N', 'cspA': 'N', 'yecO': 'N', 'yedE': 'N', 'sucA': 'N', 'cchB': 'N', 'yceP': 'N', 'ygbD': 'N', 'yjbO': 'N', 'yfiA': 'N', 'lpdA': 'N', 'pspB': 'N', 'atpG': 'N', 'dnaJ': 'N', 'flgD': 'N', 'gltA': 'N', 'sucD': 'N', 'tnaA': 'N', 'ygcE': 'N', 'yhdM': 'N', 'ibpB': 'N', 'yfaD': 'N', 'hupB': 'N', 'pspA': 'N', 'asnA': 'N', 'atpD': 'N', 'nmpC': 'N', 'icdA': 'N', 'lacA': 'N', 'yheI': 'N', 'aceB': 'N', 'lacY': 'N', 'b1963': 'N', 'dnaK': 'N', 'folK': 'N', 'ycgX': 'N', 'lacZ': 'N', 'nuoM': 'N', 'dnaG': 'N', 'b1583': 'N', 'mopB': 'N', 'yaeM': 'N', 'ftsJ': 'N'}\n"
     ]
    },
    {
     "data": {
      "application/vnd.jupyter.widget-view+json": {
       "model_id": "5649aa3962c94e7aa2151c1e022d1545",
       "version_major": 2,
       "version_minor": 0
      },
      "text/plain": [
       "  0%|          | 0/10000 [00:00<?, ?it/s]"
      ]
     },
     "metadata": {},
     "output_type": "display_data"
    },
    {
     "name": "stdout",
     "output_type": "stream",
     "text": [
      "F1-score for the model skeleton:  0.7692307692307693\n"
     ]
    }
   ],
   "source": [
    "# Learning the continuous variable ecoli model back\n",
    "\n",
    "est = HillClimbSearch(data=ecoli_samples)\n",
    "estimated_model = est.estimate(scoring_method=\"bic-g\", max_indegree=4, max_iter=int(1e4))\n",
    "get_f1_score(estimated_model, ecoli_model)"
   ]
  },
  {
   "cell_type": "markdown",
   "metadata": {},
   "source": [
    "### 3. GES algorithm"
   ]
  },
  {
   "cell_type": "code",
   "execution_count": 9,
   "metadata": {},
   "outputs": [
    {
     "name": "stderr",
     "output_type": "stream",
     "text": [
      "INFO:pgmpy: Datatype (N=numerical, C=Categorical Unordered, O=Categorical Ordered) inferred from data: \n",
      " {'INTUBATION': 'C', 'ANAPHYLAXIS': 'C', 'VENTLUNG': 'C', 'HISTORY': 'C', 'LVEDVOLUME': 'C', 'VENTMACH': 'C', 'TPR': 'C', 'MINVOL': 'C', 'VENTTUBE': 'C', 'HRBP': 'C', 'BP': 'C', 'PAP': 'C', 'PULMEMBOLUS': 'C', 'DISCONNECT': 'C', 'ERRLOWOUTPUT': 'C', 'HYPOVOLEMIA': 'C', 'CVP': 'C', 'HREKG': 'C', 'CO': 'C', 'PRESS': 'C', 'HRSAT': 'C', 'CATECHOL': 'C', 'EXPCO2': 'C', 'PVSAT': 'C', 'ARTCO2': 'C', 'LVFAILURE': 'C', 'KINKEDTUBE': 'C', 'VENTALV': 'C', 'FIO2': 'C', 'SHUNT': 'C', 'PCWP': 'C', 'SAO2': 'C', 'HR': 'C', 'MINVOLSET': 'C', 'STROKEVOLUME': 'C', 'INSUFFANESTH': 'C', 'ERRCAUTER': 'C'}\n",
      "INFO:pgmpy: Datatype (N=numerical, C=Categorical Unordered, O=Categorical Ordered) inferred from data: \n",
      " {'INTUBATION': 'C', 'ANAPHYLAXIS': 'C', 'VENTLUNG': 'C', 'HISTORY': 'C', 'LVEDVOLUME': 'C', 'VENTMACH': 'C', 'TPR': 'C', 'MINVOL': 'C', 'VENTTUBE': 'C', 'HRBP': 'C', 'BP': 'C', 'PAP': 'C', 'PULMEMBOLUS': 'C', 'DISCONNECT': 'C', 'ERRLOWOUTPUT': 'C', 'HYPOVOLEMIA': 'C', 'CVP': 'C', 'HREKG': 'C', 'CO': 'C', 'PRESS': 'C', 'HRSAT': 'C', 'CATECHOL': 'C', 'EXPCO2': 'C', 'PVSAT': 'C', 'ARTCO2': 'C', 'LVFAILURE': 'C', 'KINKEDTUBE': 'C', 'VENTALV': 'C', 'FIO2': 'C', 'SHUNT': 'C', 'PCWP': 'C', 'SAO2': 'C', 'HR': 'C', 'MINVOLSET': 'C', 'STROKEVOLUME': 'C', 'INSUFFANESTH': 'C', 'ERRCAUTER': 'C'}\n",
      "INFO:pgmpy: Datatype (N=numerical, C=Categorical Unordered, O=Categorical Ordered) inferred from data: \n",
      " {'INTUBATION': 'C', 'ANAPHYLAXIS': 'C', 'VENTLUNG': 'C', 'HISTORY': 'C', 'LVEDVOLUME': 'C', 'VENTMACH': 'C', 'TPR': 'C', 'MINVOL': 'C', 'VENTTUBE': 'C', 'HRBP': 'C', 'BP': 'C', 'PAP': 'C', 'PULMEMBOLUS': 'C', 'DISCONNECT': 'C', 'ERRLOWOUTPUT': 'C', 'HYPOVOLEMIA': 'C', 'CVP': 'C', 'HREKG': 'C', 'CO': 'C', 'PRESS': 'C', 'HRSAT': 'C', 'CATECHOL': 'C', 'EXPCO2': 'C', 'PVSAT': 'C', 'ARTCO2': 'C', 'LVFAILURE': 'C', 'KINKEDTUBE': 'C', 'VENTALV': 'C', 'FIO2': 'C', 'SHUNT': 'C', 'PCWP': 'C', 'SAO2': 'C', 'HR': 'C', 'MINVOLSET': 'C', 'STROKEVOLUME': 'C', 'INSUFFANESTH': 'C', 'ERRCAUTER': 'C'}\n"
     ]
    },
    {
     "name": "stdout",
     "output_type": "stream",
     "text": [
      "F1-score for the model skeleton:  0.8444444444444444\n"
     ]
    }
   ],
   "source": [
    "# Learning the discrete variable alarm model back\n",
    "\n",
    "est = GES(data=alarm_samples)\n",
    "estimated_model = est.estimate(scoring_method=\"bic-d\")\n",
    "get_f1_score(estimated_model, alarm_model)"
   ]
  },
  {
   "cell_type": "code",
   "execution_count": 10,
   "metadata": {},
   "outputs": [
    {
     "name": "stderr",
     "output_type": "stream",
     "text": [
      "INFO:pgmpy: Datatype (N=numerical, C=Categorical Unordered, O=Categorical Ordered) inferred from data: \n",
      " {'b1191': 'N', 'cspG': 'N', 'eutG': 'N', 'fixC': 'N', 'cspA': 'N', 'yecO': 'N', 'yedE': 'N', 'sucA': 'N', 'cchB': 'N', 'yceP': 'N', 'ygbD': 'N', 'yjbO': 'N', 'yfiA': 'N', 'lpdA': 'N', 'pspB': 'N', 'atpG': 'N', 'dnaJ': 'N', 'flgD': 'N', 'gltA': 'N', 'sucD': 'N', 'tnaA': 'N', 'ygcE': 'N', 'yhdM': 'N', 'ibpB': 'N', 'yfaD': 'N', 'hupB': 'N', 'pspA': 'N', 'asnA': 'N', 'atpD': 'N', 'nmpC': 'N', 'icdA': 'N', 'lacA': 'N', 'yheI': 'N', 'aceB': 'N', 'lacY': 'N', 'b1963': 'N', 'dnaK': 'N', 'folK': 'N', 'ycgX': 'N', 'lacZ': 'N', 'nuoM': 'N', 'dnaG': 'N', 'b1583': 'N', 'mopB': 'N', 'yaeM': 'N', 'ftsJ': 'N'}\n",
      "INFO:pgmpy: Datatype (N=numerical, C=Categorical Unordered, O=Categorical Ordered) inferred from data: \n",
      " {'b1191': 'N', 'cspG': 'N', 'eutG': 'N', 'fixC': 'N', 'cspA': 'N', 'yecO': 'N', 'yedE': 'N', 'sucA': 'N', 'cchB': 'N', 'yceP': 'N', 'ygbD': 'N', 'yjbO': 'N', 'yfiA': 'N', 'lpdA': 'N', 'pspB': 'N', 'atpG': 'N', 'dnaJ': 'N', 'flgD': 'N', 'gltA': 'N', 'sucD': 'N', 'tnaA': 'N', 'ygcE': 'N', 'yhdM': 'N', 'ibpB': 'N', 'yfaD': 'N', 'hupB': 'N', 'pspA': 'N', 'asnA': 'N', 'atpD': 'N', 'nmpC': 'N', 'icdA': 'N', 'lacA': 'N', 'yheI': 'N', 'aceB': 'N', 'lacY': 'N', 'b1963': 'N', 'dnaK': 'N', 'folK': 'N', 'ycgX': 'N', 'lacZ': 'N', 'nuoM': 'N', 'dnaG': 'N', 'b1583': 'N', 'mopB': 'N', 'yaeM': 'N', 'ftsJ': 'N'}\n",
      "INFO:pgmpy: Datatype (N=numerical, C=Categorical Unordered, O=Categorical Ordered) inferred from data: \n",
      " {'b1191': 'N', 'cspG': 'N', 'eutG': 'N', 'fixC': 'N', 'cspA': 'N', 'yecO': 'N', 'yedE': 'N', 'sucA': 'N', 'cchB': 'N', 'yceP': 'N', 'ygbD': 'N', 'yjbO': 'N', 'yfiA': 'N', 'lpdA': 'N', 'pspB': 'N', 'atpG': 'N', 'dnaJ': 'N', 'flgD': 'N', 'gltA': 'N', 'sucD': 'N', 'tnaA': 'N', 'ygcE': 'N', 'yhdM': 'N', 'ibpB': 'N', 'yfaD': 'N', 'hupB': 'N', 'pspA': 'N', 'asnA': 'N', 'atpD': 'N', 'nmpC': 'N', 'icdA': 'N', 'lacA': 'N', 'yheI': 'N', 'aceB': 'N', 'lacY': 'N', 'b1963': 'N', 'dnaK': 'N', 'folK': 'N', 'ycgX': 'N', 'lacZ': 'N', 'nuoM': 'N', 'dnaG': 'N', 'b1583': 'N', 'mopB': 'N', 'yaeM': 'N', 'ftsJ': 'N'}\n"
     ]
    },
    {
     "name": "stdout",
     "output_type": "stream",
     "text": [
      "F1-score for the model skeleton:  0.8461538461538461\n"
     ]
    }
   ],
   "source": [
    "# Learning the continuous variable ecoli model back\n",
    "\n",
    "est = GES(data=ecoli_samples)\n",
    "estimated_model = est.estimate(scoring_method=\"bic-g\")\n",
    "get_f1_score(estimated_model, ecoli_model)"
   ]
  },
  {
   "cell_type": "markdown",
   "metadata": {},
   "source": [
    "## 4. Expert In Loop Algorithm\n",
    "\n",
    "Please refer to the following blogpost for more details: https://medium.com/gopenai/llms-for-causal-discovery-745e2cba0b59"
   ]
  }
 ],
 "metadata": {
  "kernelspec": {
   "display_name": "Python 3",
   "language": "python",
   "name": "python3"
  },
  "language_info": {
   "codemirror_mode": {
    "name": "ipython",
    "version": 3
   },
   "file_extension": ".py",
   "mimetype": "text/x-python",
   "name": "python",
   "nbconvert_exporter": "python",
   "pygments_lexer": "ipython3",
   "version": "3.12.1"
  }
 },
 "nbformat": 4,
 "nbformat_minor": 4
}
