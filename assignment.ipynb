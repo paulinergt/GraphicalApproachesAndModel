{
 "cells": [
  {
   "cell_type": "code",
   "execution_count": 1,
   "id": "5a448684",
   "metadata": {},
   "outputs": [],
   "source": [
    "# Imports minimaux nécessaires\n",
    "import numpy as np\n",
    "import pandas as pd\n",
    "from sklearn.base import BaseEstimator, ClassifierMixin\n",
    "from sklearn.utils.validation import validate_data, check_is_fitted\n",
    "from sklearn.utils.multiclass import unique_labels\n",
    "from sklearn.naive_bayes import GaussianNB  # Fallback simple\n",
    "from sklearn.pipeline import Pipeline\n",
    "from sklearn.compose import ColumnTransformer\n",
    "from sklearn.preprocessing import OneHotEncoder, StandardScaler\n",
    "from sklearn.model_selection import train_test_split\n",
    "from sklearn.metrics import classification_report, accuracy_score\n",
    "from sklearn.impute import SimpleImputer"
   ]
  },
  {
   "cell_type": "code",
   "execution_count": 2,
   "id": "434a91b7",
   "metadata": {},
   "outputs": [],
   "source": [
    "# Question 1 : implémentation d'un classifieur Bayésien \n",
    "\n",
    "class BayesianClassifier(ClassifierMixin, BaseEstimator):\n",
    "    \"\"\"Classifieur Bayésien minimal pour scikit-learn\"\"\"\n",
    "    \n",
    "    def __init__(self, model=None):\n",
    "        self.model = model\n",
    "    \n",
    "    def fit(self, X, y):\n",
    "        # Validation sklearn standard\n",
    "        X, y = validate_data(self, X, y)\n",
    "        self.classes_ = unique_labels(y)\n",
    "        \n",
    "        # Si pas de modèle fourni, utiliser Naive Bayes simple\n",
    "        if self.model is None:\n",
    "            self.model = GaussianNB()\n",
    "        \n",
    "        # Entraîner le modèle\n",
    "        self.model.fit(X, y)\n",
    "        return self\n",
    "    \n",
    "    def predict(self, X):\n",
    "        check_is_fitted(self)\n",
    "        X = validate_data(self, X, reset=False)\n",
    "        return self.model.predict(X)\n",
    "    \n",
    "    def predict_proba(self, X):\n",
    "        check_is_fitted(self)\n",
    "        X = validate_data(self, X, reset=False)\n",
    "        return self.model.predict_proba(X)"
   ]
  },
  {
   "cell_type": "code",
   "execution_count": 3,
   "id": "585b8408",
   "metadata": {},
   "outputs": [
    {
     "name": "stdout",
     "output_type": "stream",
     "text": [
      "Accuracy: 0.3000\n",
      "\n",
      "Rapport de classification:\n",
      "              precision    recall  f1-score   support\n",
      "\n",
      "           N       0.82      0.09      0.17       151\n",
      "           Y       0.25      0.94      0.40        49\n",
      "\n",
      "    accuracy                           0.30       200\n",
      "   macro avg       0.54      0.52      0.28       200\n",
      "weighted avg       0.68      0.30      0.22       200\n",
      "\n"
     ]
    },
    {
     "name": "stderr",
     "output_type": "stream",
     "text": [
      "c:\\Users\\romai\\AppData\\Local\\Programs\\Python\\Python313\\Lib\\site-packages\\sklearn\\impute\\_base.py:635: UserWarning: Skipping features without any observed values: ['_c39']. At least one non-missing value is needed for imputation with strategy='median'.\n",
      "  warnings.warn(\n",
      "c:\\Users\\romai\\AppData\\Local\\Programs\\Python\\Python313\\Lib\\site-packages\\sklearn\\impute\\_base.py:635: UserWarning: Skipping features without any observed values: ['_c39']. At least one non-missing value is needed for imputation with strategy='median'.\n",
      "  warnings.warn(\n",
      "c:\\Users\\romai\\AppData\\Local\\Programs\\Python\\Python313\\Lib\\site-packages\\sklearn\\preprocessing\\_encoders.py:246: UserWarning: Found unknown categories in columns [0, 15] during transform. These unknown categories will be encoded as all zeros\n",
      "  warnings.warn(\n"
     ]
    }
   ],
   "source": [
    "# Question 2 : application du classifieur Bayésien au dataset \n",
    "\n",
    "# Charger le dataset\n",
    "df = pd.read_csv('insurance_claims.csv')\n",
    "\n",
    "# Définir la cible\n",
    "target = 'fraud_reported' if 'fraud_reported' in df.columns else df.columns[-1]\n",
    "X = df.drop(columns=[target])\n",
    "y = df[target]\n",
    "\n",
    "# Identifier les colonnes numériques et catégorielles\n",
    "num_cols = X.select_dtypes(include=[np.number]).columns.tolist()\n",
    "cat_cols = X.select_dtypes(include=['object', 'category', 'bool']).columns.tolist()\n",
    "\n",
    "# Pipeline scikit-learn \n",
    "pipeline = Pipeline([\n",
    "    ('preprocessor', ColumnTransformer([\n",
    "        ('num', Pipeline([\n",
    "            ('imputer', SimpleImputer(strategy='median')),\n",
    "            ('scaler', StandardScaler())\n",
    "        ]), num_cols),\n",
    "        ('cat', Pipeline([\n",
    "            ('imputer', SimpleImputer(strategy='most_frequent')),\n",
    "            ('encoder', OneHotEncoder(handle_unknown='ignore', drop='first', sparse_output=False))\n",
    "        ]), cat_cols)\n",
    "    ])),\n",
    "    ('classifier', BayesianClassifier())\n",
    "])\n",
    "\n",
    "# Division train/test\n",
    "X_train, X_test, y_train, y_test = train_test_split(\n",
    "    X, y, test_size=0.2, random_state=42, stratify=y\n",
    ")\n",
    "\n",
    "# Entraînement et prédiction\n",
    "pipeline.fit(X_train, y_train)\n",
    "y_pred = pipeline.predict(X_test)\n",
    "\n",
    "# Évaluation\n",
    "accuracy = accuracy_score(y_test, y_pred)\n",
    "print(f\"Accuracy: {accuracy:.4f}\")\n",
    "print(\"\\nRapport de classification:\")\n",
    "print(classification_report(y_test, y_pred))"
   ]
  }
 ],
 "metadata": {
  "kernelspec": {
   "display_name": "Python 3",
   "language": "python",
   "name": "python3"
  },
  "language_info": {
   "codemirror_mode": {
    "name": "ipython",
    "version": 3
   },
   "file_extension": ".py",
   "mimetype": "text/x-python",
   "name": "python",
   "nbconvert_exporter": "python",
   "pygments_lexer": "ipython3",
   "version": "3.13.3"
  }
 },
 "nbformat": 4,
 "nbformat_minor": 5
}
