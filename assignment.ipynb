{
 "cells": [
  {
   "cell_type": "code",
   "execution_count": 1,
   "id": "5a448684",
   "metadata": {},
   "outputs": [
    {
     "name": "stderr",
     "output_type": "stream",
     "text": [
      "c:\\Users\\romai\\AppData\\Local\\Programs\\Python\\Python313\\Lib\\site-packages\\tqdm\\auto.py:21: TqdmWarning: IProgress not found. Please update jupyter and ipywidgets. See https://ipywidgets.readthedocs.io/en/stable/user_install.html\n",
      "  from .autonotebook import tqdm as notebook_tqdm\n"
     ]
    }
   ],
   "source": [
    "# Imports\n",
    "import numpy as np\n",
    "import pandas as pd\n",
    "import matplotlib.pyplot as plt\n",
    "from sklearn.base import BaseEstimator, ClassifierMixin\n",
    "from sklearn.utils.validation import validate_data, check_is_fitted\n",
    "from sklearn.utils.multiclass import unique_labels\n",
    "from sklearn.model_selection import train_test_split\n",
    "from sklearn.metrics import accuracy_score, classification_report\n",
    "\n",
    "from pgmpy.estimators import HillClimbSearch, BayesianEstimator\n",
    "from pgmpy.models import DiscreteBayesianNetwork\n",
    "from pgmpy.inference import VariableElimination\n",
    "import logging\n",
    "logging.getLogger(\"pgmpy\").setLevel(logging.CRITICAL)\n",
    "import warnings\n",
    "warnings.filterwarnings(\"ignore\", category=UserWarning)\n",
    "\n",
    "from sklearn.compose import ColumnTransformer\n",
    "from sklearn.pipeline import Pipeline\n",
    "from sklearn.preprocessing import KBinsDiscretizer, OrdinalEncoder, StandardScaler\n",
    "from sklearn.impute import SimpleImputer\n",
    "from sklearn.calibration import LabelEncoder\n",
    "from sklearn.exceptions import ConvergenceWarning\n",
    "warnings.filterwarnings(\"ignore\", category=ConvergenceWarning)\n",
    "\n",
    "\n",
    "from sklearn.ensemble import RandomForestClassifier\n",
    "from sklearn.linear_model import LogisticRegression\n",
    "from sklearn.model_selection import cross_val_score, StratifiedKFold"
   ]
  },
  {
   "cell_type": "code",
   "execution_count": 2,
   "id": "389feffc",
   "metadata": {},
   "outputs": [],
   "source": [
    "# Question 1 : implémentation d'un classifieur Bayésien \n",
    "\n",
    "class BayesianClassifier(ClassifierMixin, BaseEstimator):\n",
    "\n",
    "    def __init__(self, model=None):\n",
    "        self.model = model\n",
    "\n",
    "    def fit(self, X, y):\n",
    "        # Check that X and y have correct shape, set n_features_in_, etc.\n",
    "        X, y = validate_data(self, X, y)\n",
    "        # Store the classes seen during fit\n",
    "        self.classes_ = unique_labels(y)\n",
    "\n",
    "        self.X_ = X\n",
    "        self.y_ = y\n",
    "        self.feature_names_ = [f\"feature_{i}\" for i in range(X.shape[1])]\n",
    "\n",
    "\n",
    "        # If bayesian network model not provided at init, perform structure learning\n",
    "        if self.model is None:\n",
    "            # Combine X and y into a single DataFrame for pgmpy\n",
    "            data_dict = {name: X[:, i] for i, name in enumerate(self.feature_names_)}\n",
    "            data_dict['target'] = y\n",
    "            data_df = pd.DataFrame(data_dict)\n",
    "   \n",
    "            # Learn the structure using Hill Climb Search\n",
    "            est = HillClimbSearch(data=data_df)\n",
    "            estimated_model = est.estimate(scoring_method=\"bic-d\", max_indegree=4, max_iter=int(1e4))\n",
    "            \n",
    "            # Create Bayesian Network model\n",
    "            self.model = DiscreteBayesianNetwork(estimated_model.edges())\n",
    "\n",
    "        # Estimate parameters from data\n",
    "\n",
    "        # Fit the model parameters using Bayesian Estimator\n",
    "        self.model.fit(data_df, estimator=BayesianEstimator, prior_type='BDeu', equivalent_sample_size=10)\n",
    "        self.inference = VariableElimination(self.model)\n",
    "\n",
    "        # Return the classifier\n",
    "        return self\n",
    "\n",
    "    def predict_proba(self, X):\n",
    "        # Check if fit has been called\n",
    "        check_is_fitted(self)\n",
    "\n",
    "        # Input validation\n",
    "        X = validate_data(self, X, reset=False)\n",
    "\n",
    "        # Implement prediction here, return classes with probabilities\n",
    "        predictions_proba = []\n",
    "        for row in X:\n",
    "            evidence = {self.feature_names_[i]: row[i] for i in range(X.shape[1])\n",
    "                        if self.feature_names_[i] in self.model.nodes()}\n",
    "            query_result = self.inference.query(variables=['target'], evidence=evidence)\n",
    "            predictions_proba.append(query_result.values)\n",
    "        return np.array(predictions_proba)\n",
    "\n",
    "    def predict(self, X):\n",
    "\n",
    "        # Check if fit has been called\n",
    "        check_is_fitted(self)\n",
    "\n",
    "        # Input validation\n",
    "        X = validate_data(self, X, reset=False)\n",
    "       \n",
    "        # Perform prediction here with predict_proba\n",
    "        proba = self.predict_proba(X)\n",
    "\n",
    "        # Return just result (without the probability)\n",
    "        return self.classes_[np.argmax(proba, axis=1)]"
   ]
  },
  {
   "cell_type": "code",
   "execution_count": 3,
   "id": "5a21647d",
   "metadata": {},
   "outputs": [
    {
     "name": "stderr",
     "output_type": "stream",
     "text": [
      "  0%|          | 12/10000 [00:04<1:04:11,  2.59it/s]\n"
     ]
    },
    {
     "name": "stdout",
     "output_type": "stream",
     "text": [
      "Accuracy: 0.78\n",
      "              precision    recall  f1-score   support\n",
      "\n",
      "           N       0.86      0.83      0.85       145\n",
      "           Y       0.59      0.65      0.62        55\n",
      "\n",
      "    accuracy                           0.78       200\n",
      "   macro avg       0.73      0.74      0.73       200\n",
      "weighted avg       0.79      0.78      0.78       200\n",
      "\n"
     ]
    }
   ],
   "source": [
    "# Question 2 : application du classifieur Bayésien au dataset \n",
    "\n",
    "# Charger le dataset\n",
    "df = pd.read_csv('insurance_claims.csv')\n",
    "df = df.rename(columns={'fraud_reported': 'target'})\n",
    "\n",
    "# Définir la cible\n",
    "X = df.drop(columns=['target'])\n",
    "y = df['target']\n",
    "\n",
    "X = X.dropna(axis=1, how='all')\n",
    "# Séparation num/cat\n",
    "num_cols = X.select_dtypes(include=[np.number]).columns.tolist()\n",
    "cat_cols = X.select_dtypes(include=['object', 'category', 'bool']).columns.tolist()\n",
    "\n",
    "# Pré-traitement\n",
    "num_transformer = Pipeline(steps=[\n",
    "    ('imputer', SimpleImputer(strategy='median')),\n",
    "    ('discretizer', KBinsDiscretizer(n_bins=5, encode='ordinal', strategy='uniform')),\n",
    "    ('scaler', StandardScaler())\n",
    "])\n",
    "\n",
    "cat_transformer = Pipeline(steps=[\n",
    "    ('imputer', SimpleImputer(strategy='constant', fill_value='missing')),\n",
    "    ('encoder', OrdinalEncoder(handle_unknown='use_encoded_value', unknown_value=-1))\n",
    "])\n",
    "\n",
    "preprocessor = ColumnTransformer(\n",
    "    transformers=[\n",
    "        ('num', num_transformer, num_cols),\n",
    "        ('cat', cat_transformer, cat_cols)\n",
    "    ]\n",
    ")\n",
    "\n",
    "# Pipeline complet\n",
    "clf_pipeline = Pipeline(steps=[\n",
    "    ('preprocessor', preprocessor),\n",
    "    ('classifier', BayesianClassifier())\n",
    "])\n",
    "\n",
    "# Train/test split\n",
    "X_train, X_test, y_train, y_test = train_test_split(X, y, test_size=0.2, random_state=42)\n",
    "\n",
    "# Entraînement\n",
    "clf_pipeline.fit(X_train, y_train)\n",
    "\n",
    "# Prédiction\n",
    "y_pred = clf_pipeline.predict(X_test)\n",
    "\n",
    "# Évaluation\n",
    "print(\"Accuracy:\", accuracy_score(y_test, y_pred))\n",
    "print(classification_report(y_test, y_pred))"
   ]
  },
  {
   "cell_type": "code",
   "execution_count": 5,
   "id": "7333bd7d",
   "metadata": {},
   "outputs": [
    {
     "name": "stderr",
     "output_type": "stream",
     "text": [
      "  0%|          | 13/10000 [00:05<1:05:27,  2.54it/s]\n",
      "  0%|          | 12/10000 [00:04<1:04:32,  2.58it/s]\n",
      "  0%|          | 12/10000 [00:04<1:03:22,  2.63it/s]\n",
      "  0%|          | 12/10000 [00:05<1:10:06,  2.37it/s]\n",
      "  0%|          | 13/10000 [00:04<1:00:48,  2.74it/s]\n"
     ]
    },
    {
     "name": "stdout",
     "output_type": "stream",
     "text": [
      "=== Bayesian ===\n",
      "Cross-validated Accuracy: 0.814 ± 0.017\n",
      "=== RandomForest ===\n",
      "Cross-validated Accuracy: 0.792 ± 0.011\n",
      "=== LogisticRegression ===\n",
      "Cross-validated Accuracy: 0.775 ± 0.019\n"
     ]
    }
   ],
   "source": [
    "# Question 3 : benchmark against other one other scikit learn classifiers\n",
    "\n",
    "# Définir les modèles\n",
    "models = {\n",
    "    \"Bayesian\": BayesianClassifier(),\n",
    "    \"RandomForest\": RandomForestClassifier(n_estimators=100, random_state=42),\n",
    "    \"LogisticRegression\": LogisticRegression(max_iter=10000, random_state=42)\n",
    "}\n",
    "\n",
    "cv = StratifiedKFold(n_splits=5, shuffle=True, random_state=42)\n",
    "\n",
    "# Stocker les scores\n",
    "accuracies = []\n",
    "classif_models = []\n",
    "\n",
    "for name, model in models.items():\n",
    "    pipeline = Pipeline([\n",
    "        ('preprocessor', preprocessor),\n",
    "        ('classifier', model)\n",
    "    ])\n",
    "    scores = cross_val_score(pipeline, X, y, cv=cv, scoring='accuracy')\n",
    "    print(f\"=== {name} ===\")\n",
    "    print(\"Cross-validated Accuracy: %.3f ± %.3f\" % (scores.mean(), scores.std()))\n",
    "    accuracies.append(scores)\n",
    "    classif_models.append(name)"
   ]
  },
  {
   "cell_type": "code",
   "execution_count": 12,
   "id": "e3bea571",
   "metadata": {},
   "outputs": [
    {
     "data": {
      "image/png": "[encoded data removed]",
      "text/plain": [
       "<Figure size 1000x500 with 1 Axes>"
      ]
     },
     "metadata": {},
     "output_type": "display_data"
    }
   ],
   "source": [
    "# Afficher le boxplot\n",
    "plt.style.use('_mpl-gallery')\n",
    "fig, axs = plt.subplots(figsize=(10, 5))\n",
    "axs.boxplot(accuracies, notch=True, tick_labels=classif_models, patch_artist=True)\n",
    "axs.set_title('Accuracies for 5 folds', fontsize=14)\n",
    "axs.set_ylabel('Accuracy')\n",
    "plt.grid(axis='y', linestyle='--', alpha=0.7)\n",
    "plt.show()"
   ]
  },
  {
   "cell_type": "code",
   "execution_count": null,
   "id": "bafd02e2",
   "metadata": {},
   "outputs": [],
   "source": [
    "# Question 4 : amongst the wrongfully classified claims, select 5 instances and use the structure of the learned bayesian network, to interpret the misclassification. \n",
    "\n",
    "# Prédictions\n",
    "y_pred = clf_pipeline.predict(X_test)\n",
    "\n",
    "# Sélection des erreurs\n",
    "misclassified_mask = y_pred != y_test\n",
    "X_misclassified = X_test[misclassified_mask]\n",
    "y_true_misclassified = y_test[misclassified_mask]\n",
    "y_pred_misclassified = pd.Series(y_pred[misclassified_mask], index=X_misclassified.index)\n",
    "\n",
    "# Prendre les 5 premières erreurs\n",
    "X_selected = X_misclassified.head(5)\n",
    "y_true_selected = y_true_misclassified.loc[X_selected.index]\n",
    "y_pred_selected = y_pred_misclassified.loc[X_selected.index]"
   ]
  },
  {
   "cell_type": "code",
   "execution_count": 6,
   "id": "54252f0d",
   "metadata": {},
   "outputs": [
    {
     "name": "stderr",
     "output_type": "stream",
     "text": [
      "C:\\Users\\romai\\AppData\\Local\\Temp\\ipykernel_4408\\2317294940.py:7: FutureWarning: Series.__getitem__ treating keys as positions is deprecated. In a future version, integer keys will always be treated as labels (consistent with DataFrame behavior). To access a value by position, use `ser.iloc[pos]`\n",
      "  evidence = {f\"feature_{j}\": instance[j] for j in range(len(instance))}\n",
      "c:\\Users\\romai\\AppData\\Local\\Programs\\Python\\Python313\\Lib\\site-packages\\pgmpy\\inference\\ExactInference.py:784: SyntaxWarning: invalid escape sequence '\\s'\n",
      "  .. math:: \\sum_{C_i - S_{i, j}} \\beta_i = \\sum_{C_j - S_{i, j}} \\beta_j = \\mu_{i, j}\n"
     ]
    },
    {
     "ename": "ValueError",
     "evalue": "Node feature_2 not in graph",
     "output_type": "error",
     "traceback": [
      "\u001b[31m---------------------------------------------------------------------------\u001b[39m",
      "\u001b[31mValueError\u001b[39m                                Traceback (most recent call last)",
      "\u001b[36mCell\u001b[39m\u001b[36m \u001b[39m\u001b[32mIn[6]\u001b[39m\u001b[32m, line 10\u001b[39m\n\u001b[32m      7\u001b[39m evidence = {\u001b[33mf\u001b[39m\u001b[33m\"\u001b[39m\u001b[33mfeature_\u001b[39m\u001b[38;5;132;01m{\u001b[39;00mj\u001b[38;5;132;01m}\u001b[39;00m\u001b[33m\"\u001b[39m: instance[j] \u001b[38;5;28;01mfor\u001b[39;00m j \u001b[38;5;129;01min\u001b[39;00m \u001b[38;5;28mrange\u001b[39m(\u001b[38;5;28mlen\u001b[39m(instance))}\n\u001b[32m      9\u001b[39m \u001b[38;5;66;03m# Distribution postérieure\u001b[39;00m\n\u001b[32m---> \u001b[39m\u001b[32m10\u001b[39m posterior = \u001b[43minference\u001b[49m\u001b[43m.\u001b[49m\u001b[43mquery\u001b[49m\u001b[43m(\u001b[49m\u001b[43mvariables\u001b[49m\u001b[43m=\u001b[49m\u001b[43m[\u001b[49m\u001b[33;43m'\u001b[39;49m\u001b[33;43mtarget\u001b[39;49m\u001b[33;43m'\u001b[39;49m\u001b[43m]\u001b[49m\u001b[43m,\u001b[49m\u001b[43m \u001b[49m\u001b[43mevidence\u001b[49m\u001b[43m=\u001b[49m\u001b[43mevidence\u001b[49m\u001b[43m)\u001b[49m\n\u001b[32m     12\u001b[39m \u001b[38;5;28mprint\u001b[39m(\u001b[33mf\u001b[39m\u001b[33m\"\u001b[39m\u001b[38;5;130;01m\\n\u001b[39;00m\u001b[33m--- Instance \u001b[39m\u001b[38;5;132;01m{\u001b[39;00mi\u001b[38;5;132;01m}\u001b[39;00m\u001b[33m ---\u001b[39m\u001b[33m\"\u001b[39m)\n\u001b[32m     13\u001b[39m \u001b[38;5;28mprint\u001b[39m(\u001b[33mf\u001b[39m\u001b[33m\"\u001b[39m\u001b[33mTrue label: \u001b[39m\u001b[38;5;132;01m{\u001b[39;00my_true_selected.loc[i]\u001b[38;5;132;01m}\u001b[39;00m\u001b[33m\"\u001b[39m)\n",
      "\u001b[36mFile \u001b[39m\u001b[32mc:\\Users\\romai\\AppData\\Local\\Programs\\Python\\Python313\\Lib\\site-packages\\pgmpy\\inference\\ExactInference.py:320\u001b[39m, in \u001b[36mVariableElimination.query\u001b[39m\u001b[34m(self, variables, evidence, virtual_evidence, elimination_order, joint, show_progress)\u001b[39m\n\u001b[32m    318\u001b[39m \u001b[38;5;66;03m# Step 3: Prune the network based on variables and evidence.\u001b[39;00m\n\u001b[32m    319\u001b[39m \u001b[38;5;28;01mif\u001b[39;00m \u001b[38;5;28misinstance\u001b[39m(\u001b[38;5;28mself\u001b[39m.model, DiscreteBayesianNetwork):\n\u001b[32m--> \u001b[39m\u001b[32m320\u001b[39m     model_reduced, evidence = \u001b[38;5;28;43mself\u001b[39;49m\u001b[43m.\u001b[49m\u001b[43m_prune_bayesian_model\u001b[49m\u001b[43m(\u001b[49m\u001b[43mvariables\u001b[49m\u001b[43m,\u001b[49m\u001b[43m \u001b[49m\u001b[43mevidence\u001b[49m\u001b[43m)\u001b[49m\n\u001b[32m    321\u001b[39m     factors = model_reduced.cpds\n\u001b[32m    322\u001b[39m \u001b[38;5;28;01melse\u001b[39;00m:\n",
      "\u001b[36mFile \u001b[39m\u001b[32mc:\\Users\\romai\\AppData\\Local\\Programs\\Python\\Python313\\Lib\\site-packages\\pgmpy\\inference\\base.py:155\u001b[39m, in \u001b[36mInference._prune_bayesian_model\u001b[39m\u001b[34m(self, variables, evidence)\u001b[39m\n\u001b[32m    151\u001b[39m variables = \u001b[38;5;28mlist\u001b[39m(\u001b[38;5;28mself\u001b[39m.model.nodes()) \u001b[38;5;28;01mif\u001b[39;00m \u001b[38;5;28mlen\u001b[39m(variables) == \u001b[32m0\u001b[39m \u001b[38;5;28;01melse\u001b[39;00m \u001b[38;5;28mlist\u001b[39m(variables)\n\u001b[32m    153\u001b[39m \u001b[38;5;66;03m# Step 1: Remove all the variables that are d-separated from `variables` when conditioned\u001b[39;00m\n\u001b[32m    154\u001b[39m \u001b[38;5;66;03m#         on `evidence`\u001b[39;00m\n\u001b[32m--> \u001b[39m\u001b[32m155\u001b[39m d_connected = \u001b[38;5;28;43mself\u001b[39;49m\u001b[43m.\u001b[49m\u001b[43mmodel\u001b[49m\u001b[43m.\u001b[49m\u001b[43mactive_trail_nodes\u001b[49m\u001b[43m(\u001b[49m\n\u001b[32m    156\u001b[39m \u001b[43m    \u001b[49m\u001b[43mvariables\u001b[49m\u001b[43m=\u001b[49m\u001b[43mvariables\u001b[49m\u001b[43m,\u001b[49m\u001b[43m \u001b[49m\u001b[43mobserved\u001b[49m\u001b[43m=\u001b[49m\u001b[38;5;28;43mlist\u001b[39;49m\u001b[43m(\u001b[49m\u001b[43mevidence\u001b[49m\u001b[43m.\u001b[49m\u001b[43mkeys\u001b[49m\u001b[43m(\u001b[49m\u001b[43m)\u001b[49m\u001b[43m)\u001b[49m\u001b[43m,\u001b[49m\u001b[43m \u001b[49m\u001b[43minclude_latents\u001b[49m\u001b[43m=\u001b[49m\u001b[38;5;28;43;01mTrue\u001b[39;49;00m\n\u001b[32m    157\u001b[39m \u001b[43m\u001b[49m\u001b[43m)\u001b[49m\n\u001b[32m    158\u001b[39m d_connected = \u001b[38;5;28mset\u001b[39m.union(*d_connected.values()).union(evidence.keys())\n\u001b[32m    159\u001b[39m bn = \u001b[38;5;28mself\u001b[39m.model.subgraph(d_connected)\n",
      "\u001b[36mFile \u001b[39m\u001b[32mc:\\Users\\romai\\AppData\\Local\\Programs\\Python\\Python313\\Lib\\site-packages\\pgmpy\\base\\DAG.py:799\u001b[39m, in \u001b[36mDAG.active_trail_nodes\u001b[39m\u001b[34m(self, variables, observed, include_latents)\u001b[39m\n\u001b[32m    797\u001b[39m \u001b[38;5;28;01melse\u001b[39;00m:\n\u001b[32m    798\u001b[39m     observed_list = []\n\u001b[32m--> \u001b[39m\u001b[32m799\u001b[39m ancestors_list = \u001b[38;5;28;43mself\u001b[39;49m\u001b[43m.\u001b[49m\u001b[43m_get_ancestors_of\u001b[49m\u001b[43m(\u001b[49m\u001b[43mobserved_list\u001b[49m\u001b[43m)\u001b[49m\n\u001b[32m    801\u001b[39m \u001b[38;5;66;03m# Direction of flow of information\u001b[39;00m\n\u001b[32m    802\u001b[39m \u001b[38;5;66;03m# up ->  from parent to child\u001b[39;00m\n\u001b[32m    803\u001b[39m \u001b[38;5;66;03m# down -> from child to parent\u001b[39;00m\n\u001b[32m    805\u001b[39m active_trails = {}\n",
      "\u001b[36mFile \u001b[39m\u001b[32mc:\\Users\\romai\\AppData\\Local\\Programs\\Python\\Python313\\Lib\\site-packages\\pgmpy\\base\\DAG.py:861\u001b[39m, in \u001b[36mDAG._get_ancestors_of\u001b[39m\u001b[34m(self, nodes)\u001b[39m\n\u001b[32m    859\u001b[39m \u001b[38;5;28;01mfor\u001b[39;00m node \u001b[38;5;129;01min\u001b[39;00m nodes:\n\u001b[32m    860\u001b[39m     \u001b[38;5;28;01mif\u001b[39;00m node \u001b[38;5;129;01mnot\u001b[39;00m \u001b[38;5;129;01min\u001b[39;00m \u001b[38;5;28mself\u001b[39m.nodes():\n\u001b[32m--> \u001b[39m\u001b[32m861\u001b[39m         \u001b[38;5;28;01mraise\u001b[39;00m \u001b[38;5;167;01mValueError\u001b[39;00m(\u001b[33mf\u001b[39m\u001b[33m\"\u001b[39m\u001b[33mNode \u001b[39m\u001b[38;5;132;01m{\u001b[39;00mnode\u001b[38;5;132;01m}\u001b[39;00m\u001b[33m not in graph\u001b[39m\u001b[33m\"\u001b[39m)\n\u001b[32m    863\u001b[39m ancestors_list = \u001b[38;5;28mset\u001b[39m()\n\u001b[32m    864\u001b[39m nodes_list = \u001b[38;5;28mset\u001b[39m(nodes)\n",
      "\u001b[31mValueError\u001b[39m: Node feature_2 not in graph"
     ]
    }
   ],
   "source": [
    "# Accès au modèle appris\n",
    "bayes_model = clf_pipeline.named_steps['classifier'].model\n",
    "inference = VariableElimination(bayes_model)\n",
    "\n",
    "for i in X_selected.index:\n",
    "    instance = X_selected.loc[i]\n",
    "    evidence = {f\"feature_{j}\": instance[j] for j in range(len(instance))}\n",
    "    \n",
    "    # Distribution postérieure\n",
    "    posterior = inference.query(variables=['target'], evidence=evidence)\n",
    "    \n",
    "    print(f\"\\n--- Instance {i} ---\")\n",
    "    print(f\"True label: {y_true_selected.loc[i]}\")\n",
    "    print(f\"Predicted label: {y_pred_selected.loc[i]}\")\n",
    "    print(\"Posterior distribution over target:\")\n",
    "    print(posterior)\n",
    "\n",
    "    # Optionnel : explorer les dépendances\n",
    "    print(\"\\nVariables influentes (parents de 'target'):\")\n",
    "    print([parent for parent in bayes_model.get_parents('target')])\n"
   ]
  }
 ],
 "metadata": {
  "kernelspec": {
   "display_name": "Python 3",
   "language": "python",
   "name": "python3"
  },
  "language_info": {
   "codemirror_mode": {
    "name": "ipython",
    "version": 3
   },
   "file_extension": ".py",
   "mimetype": "text/x-python",
   "name": "python",
   "nbconvert_exporter": "python",
   "pygments_lexer": "ipython3",
   "version": "3.13.3"
  }
 },
 "nbformat": 4,
 "nbformat_minor": 5
}
