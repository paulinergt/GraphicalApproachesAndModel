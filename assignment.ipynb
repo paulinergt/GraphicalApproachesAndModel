{
 "cells": [
  {
   "cell_type": "markdown",
   "id": "ac32c0a3",
   "metadata": {},
   "source": [
    "### graphical models"
   ]
  },
  {
   "cell_type": "markdown",
   "id": "fca24158",
   "metadata": {},
   "source": [
    "Create a custom sckikit-learn classifier based on the template provided. You should let users either provide an exiting bayesian network model. If a model isn't  provided, you should automatically perform structure learning in fit, before the estimation of the parameters."
   ]
  },
  {
   "cell_type": "code",
   "execution_count": 6,
   "id": "fdfa7a7c",
   "metadata": {},
   "outputs": [],
   "source": [
    "import numpy as np\n",
    "import pandas as pd\n",
    "from sklearn.base import BaseEstimator, ClassifierMixin\n",
    "from sklearn.utils.validation import check_array, check_X_y, check_is_fitted\n",
    "from sklearn.utils.multiclass import unique_labels\n",
    "\n",
    "\n",
    "from pgmpy.models import BayesianNetwork \n",
    "from pgmpy.estimators import HillClimbSearch, MaximumLikelihoodEstimator \n",
    "from pgmpy.inference import VariableElimination"
   ]
  },
  {
   "cell_type": "markdown",
   "id": "5c0d6eb2",
   "metadata": {},
   "source": [
    "Create a custom sckikit-learn classifier based on the template provided. You should let users either provide an exiting bayesian network model. If a model isn't  provided, you should automatically perform structure learning in fit, before the estimation of the parameters. "
   ]
  },
  {
   "cell_type": "code",
   "execution_count": 7,
   "id": "4b33070d",
   "metadata": {},
   "outputs": [],
   "source": [
    "\n",
    "class BayesianNetworkClassifier(ClassifierMixin, BaseEstimator):\n",
    "\n",
    "    def __init__(self, model=None, structure_method=\"hillclimb\"):\n",
    "        \"\"\"\n",
    "        model: pgmpy.models.BayesianNetwork or None\n",
    "            If provided, this model will be used directly.\n",
    "            If None, structure learning is performed in fit().\n",
    "        structure_method: str\n",
    "            The method for structure learning (\"hillclimb\" supported).\n",
    "        \"\"\"\n",
    "        self.model = model\n",
    "        self.structure_method = structure_method\n",
    "\n",
    "    def fit(self, X, y):\n",
    "        # Validate inputs\n",
    "        X, y = check_X_y(X, y)\n",
    "        self.classes_ = unique_labels(y)\n",
    "\n",
    "        # Convert to DataFrame for pgmpy\n",
    "        data = pd.DataFrame(X, columns=[f\"f{i}\" for i in range(X.shape[1])])\n",
    "        data[\"target\"] = y\n",
    "\n",
    "        # If no model provided, perform structure learning\n",
    "        if self.model is None:\n",
    "            if self.structure_method == \"hillclimb\":\n",
    "                hc = HillClimbSearch(data, use_cache=True)\n",
    "                best_model = hc.estimate(scoring_method=\"k2\")\n",
    "                self.model_ = BayesianNetwork(best_model.edges())\n",
    "            else:\n",
    "                raise ValueError(f\"Unsupported structure method: {self.structure_method}\")\n",
    "        else:\n",
    "            self.model_ = self.model\n",
    "\n",
    "        # Estimate parameters\n",
    "        self.model_.fit(data, estimator=MaximumLikelihoodEstimator)\n",
    "\n",
    "        # Store inference engine for predictions\n",
    "        self.infer_ = VariableElimination(self.model_)\n",
    "        return self\n",
    "\n",
    "    def predict(self, X):\n",
    "        check_is_fitted(self)\n",
    "        X = check_array(X)\n",
    "\n",
    "        data = pd.DataFrame(X, columns=[f\"f{i}\" for i in range(X.shape[1])])\n",
    "        preds = []\n",
    "        for _, row in data.iterrows():\n",
    "            q = self.infer_.query(\n",
    "                variables=[\"target\"],\n",
    "                evidence=row.to_dict()\n",
    "            )\n",
    "            # Pick class with max probability\n",
    "            preds.append(q.values.argmax())\n",
    "        return [self.classes_[i] for i in preds]\n",
    "\n",
    "    def predict_proba(self, X):\n",
    "        check_is_fitted(self)\n",
    "        X = check_array(X)\n",
    "\n",
    "        data = pd.DataFrame(X, columns=[f\"f{i}\" for i in range(X.shape[1])])\n",
    "        proba = []\n",
    "        for _, row in data.iterrows():\n",
    "            q = self.infer_.query(\n",
    "                variables=[\"target\"],\n",
    "                evidence=row.to_dict()\n",
    "            )\n",
    "            # Align probs with self.classes_\n",
    "            prob_vec = [q.values[self.classes_.tolist().index(c)] for c in self.classes_]\n",
    "            proba.append(prob_vec)\n",
    "        return proba"
   ]
  },
  {
   "cell_type": "markdown",
   "id": "e52f17ea",
   "metadata": {},
   "source": []
  }
 ],
 "metadata": {
  "kernelspec": {
   "display_name": "assignementvenv",
   "language": "python",
   "name": "python3"
  },
  "language_info": {
   "codemirror_mode": {
    "name": "ipython",
    "version": 3
   },
   "file_extension": ".py",
   "mimetype": "text/x-python",
   "name": "python",
   "nbconvert_exporter": "python",
   "pygments_lexer": "ipython3",
   "version": "3.11.2"
  }
 },
 "nbformat": 4,
 "nbformat_minor": 5
}
