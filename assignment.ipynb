{
 "cells": [
  {
   "cell_type": "markdown",
   "id": "ac32c0a3",
   "metadata": {},
   "source": [
    "### graphical models"
   ]
  },
  {
   "cell_type": "markdown",
   "id": "e52f17ea",
   "metadata": {},
   "source": []
  }
 ],
 "metadata": {
  "language_info": {
   "name": "python"
  }
 },
 "nbformat": 4,
 "nbformat_minor": 5
}
