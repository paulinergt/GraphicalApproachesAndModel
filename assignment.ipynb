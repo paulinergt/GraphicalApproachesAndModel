{
 "cells": [
  {
   "cell_type": "code",
   "execution_count": null,
   "id": "5a448684",
   "metadata": {},
   "outputs": [],
   "source": [
    "# Imports minimaux nécessaires\n",
    "import numpy as np\n",
    "import pandas as pd\n",
    "from sklearn.base import BaseEstimator, ClassifierMixin\n",
    "from sklearn.utils.validation import validate_data, check_is_fitted\n",
    "from sklearn.utils.multiclass import unique_labels\n",
    "from sklearn.naive_bayes import GaussianNB  # Fallback simple"
   ]
  },
  {
   "cell_type": "code",
   "execution_count": null,
   "id": "434a91b7",
   "metadata": {},
   "outputs": [],
   "source": [
    "class BayesianClassifier(ClassifierMixin, BaseEstimator):\n",
    "    \"\"\"Classifieur Bayésien minimal pour scikit-learn\"\"\"\n",
    "    \n",
    "    def __init__(self, model=None):\n",
    "        self.model = model\n",
    "    \n",
    "    def fit(self, X, y):\n",
    "        # Validation sklearn standard\n",
    "        X, y = validate_data(self, X, y)\n",
    "        self.classes_ = unique_labels(y)\n",
    "        \n",
    "        # Si pas de modèle fourni, utiliser Naive Bayes simple\n",
    "        if self.model is None:\n",
    "            self.model = GaussianNB()\n",
    "        \n",
    "        # Entraîner le modèle\n",
    "        self.model.fit(X, y)\n",
    "        return self\n",
    "    \n",
    "    def predict(self, X):\n",
    "        check_is_fitted(self)\n",
    "        X = validate_data(self, X, reset=False)\n",
    "        return self.model.predict(X)\n",
    "    \n",
    "    def predict_proba(self, X):\n",
    "        check_is_fitted(self)\n",
    "        X = validate_data(self, X, reset=False)\n",
    "        return self.model.predict_proba(X)"
   ]
  },
  {
   "cell_type": "code",
   "execution_count": null,
   "id": "31cea508",
   "metadata": {},
   "outputs": [],
   "source": [
    "# Test simple du classifieur\n",
    "from sklearn.datasets import make_classification\n",
    "from sklearn.model_selection import train_test_split\n",
    "from sklearn.metrics import accuracy_score\n",
    "\n",
    "# Données de test\n",
    "X, y = make_classification(n_samples=100, n_features=4, n_classes=2, random_state=42)\n",
    "X_train, X_test, y_train, y_test = train_test_split(X, y, test_size=0.3, random_state=42)\n",
    "\n",
    "# Test du classifieur\n",
    "classifier = BayesianClassifier()\n",
    "classifier.fit(X_train, y_train)\n",
    "y_pred = classifier.predict(X_test)\n",
    "\n",
    "print(f\"Précision: {accuracy_score(y_test, y_pred):.3f}\")\n",
    "print(\"✅ Classifieur minimal fonctionnel !\")"
   ]
  },
  {
   "cell_type": "markdown",
   "id": "47b4939b",
   "metadata": {},
   "source": [
    "## Question 1: Classifieur Bayésien Minimal\n",
    "\n",
    "**Version simplifiée au maximum** qui respecte le template sklearn:\n",
    "\n",
    "### Fonctionnalités:\n",
    "- ✅ **API sklearn complète**: `fit()`, `predict()`, `predict_proba()`\n",
    "- ✅ **Modèle flexible**: Accepte un modèle pré-défini ou utilise Naive Bayes par défaut\n",
    "- ✅ **Validation des données**: Compatible avec l'écosystème sklearn\n",
    "- ✅ **Code minimal**: ~20 lignes seulement\n",
    "\n",
    "### Utilisation:\n",
    "```python\n",
    "# Utilisation basique (Naive Bayes automatique)\n",
    "classifier = BayesianClassifier()\n",
    "classifier.fit(X_train, y_train)\n",
    "\n",
    "# Avec un modèle personnalisé\n",
    "from sklearn.naive_bayes import MultinomialNB\n",
    "classifier = BayesianClassifier(model=MultinomialNB())\n",
    "```\n",
    "\n",
    "Cette version minimaliste peut être étendue selon les besoins spécifiques."
   ]
  },
  {
   "cell_type": "markdown",
   "id": "ac32c0a3",
   "metadata": {},
   "source": [
    "### graphical models"
   ]
  },
  {
   "cell_type": "markdown",
   "id": "e52f17ea",
   "metadata": {},
   "source": []
  }
 ],
 "metadata": {
  "kernelspec": {
   "display_name": "Python 3",
   "language": "python",
   "name": "python3"
  },
  "language_info": {
   "name": "python",
   "version": "3.12.1"
  }
 },
 "nbformat": 4,
 "nbformat_minor": 5
}
