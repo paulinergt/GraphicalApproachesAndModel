{
 "cells": [
  {
   "cell_type": "markdown",
   "id": "ac32c0a3",
   "metadata": {},
   "source": [
    "### graphical models"
   ]
  },
  {
   "cell_type": "markdown",
   "id": "fca24158",
   "metadata": {},
   "source": [
    "Create a custom sckikit-learn classifier based on the template provided. You should let users either provide an exiting bayesian network model. If a model isn't  provided, you should automatically perform structure learning in fit, before the estimation of the parameters."
   ]
  },
  {
   "cell_type": "code",
   "execution_count": 3,
   "id": "fdfa7a7c",
   "metadata": {},
   "outputs": [],
   "source": [
    "import numpy as np\n",
    "from sklearn.base import BaseEstimator, ClassifierMixin\n",
    "from sklearn.utils.validation import validate_data, check_is_fitted\n",
    "from sklearn.utils.multiclass import unique_labels"
   ]
  },
  {
   "cell_type": "code",
   "execution_count": null,
   "id": "4b33070d",
   "metadata": {},
   "outputs": [],
   "source": [
    "\n",
    "\n",
    "class TemplateClassifier(ClassifierMixin, BaseEstimator):\n",
    "\n",
    "    def __init__(self, demo_param='demo'):\n",
    "        self.demo_param = demo_param\n",
    "\n",
    "    def fit(self, X, y):\n",
    "\n",
    "        # Check that X and y have correct shape, set n_features_in_, etc.\n",
    "        X, y = validate_data(self, X, y)\n",
    "        # Store the classes seen during fit\n",
    "        self.classes_ = unique_labels(y)\n",
    "\n",
    "        self.X_ = X\n",
    "        self.y_ = y\n",
    "        \n",
    "        # If bayesian network model not provided at init, perform structure learning\n",
    "\n",
    "        # Estimate parameters from data\n",
    "\n",
    "        # Return the classifier\n",
    "        return self\n",
    "\n",
    "    def predict(self, X):\n",
    "\n",
    "        # Check if fit has been called\n",
    "        check_is_fitted(self)\n",
    "\n",
    "        # Input validation\n",
    "        X = validate_data(self, X, reset=False)\n",
    "       \n",
    "        # Perform prediction here with predict_proba\n",
    "        # Return just result (without the probability)\n",
    "\n",
    "    def predict_proba(self, X):\n",
    "        # Check if fit has been called\n",
    "        check_is_fitted(self)\n",
    "\n",
    "        # Input validation\n",
    "        X = validate_data(self, X, reset=False)\n",
    "\n",
    "        # Implement prediction here, return classes with probabilities"
   ]
  },
  {
   "cell_type": "markdown",
   "id": "e52f17ea",
   "metadata": {},
   "source": []
  }
 ],
 "metadata": {
  "kernelspec": {
   "display_name": "assignementvenv",
   "language": "python",
   "name": "python3"
  },
  "language_info": {
   "codemirror_mode": {
    "name": "ipython",
    "version": 3
   },
   "file_extension": ".py",
   "mimetype": "text/x-python",
   "name": "python",
   "nbconvert_exporter": "python",
   "pygments_lexer": "ipython3",
   "version": "3.11.2"
  }
 },
 "nbformat": 4,
 "nbformat_minor": 5
}
