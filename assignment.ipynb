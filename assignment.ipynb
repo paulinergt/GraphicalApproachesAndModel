{
 "cells": [
  {
   "cell_type": "code",
   "execution_count": null,
   "id": "5a448684",
   "metadata": {},
   "outputs": [],
   "source": [
    "# Imports minimaux nécessaires\n",
    "import numpy as np\n",
    "import pandas as pd\n",
    "from sklearn.base import BaseEstimator, ClassifierMixin\n",
    "from sklearn.utils.validation import validate_data, check_is_fitted\n",
    "from sklearn.utils.multiclass import unique_labels\n",
    "from sklearn.naive_bayes import GaussianNB  # Fallback simple"
   ]
  },
  {
   "cell_type": "code",
   "execution_count": null,
   "id": "434a91b7",
   "metadata": {},
   "outputs": [],
   "source": [
    "class BayesianClassifier(ClassifierMixin, BaseEstimator):\n",
    "    \"\"\"Classifieur Bayésien minimal pour scikit-learn\"\"\"\n",
    "    \n",
    "    def __init__(self, model=None):\n",
    "        self.model = model\n",
    "    \n",
    "    def fit(self, X, y):\n",
    "        # Validation sklearn standard\n",
    "        X, y = validate_data(self, X, y)\n",
    "        self.classes_ = unique_labels(y)\n",
    "        \n",
    "        # Si pas de modèle fourni, utiliser Naive Bayes simple\n",
    "        if self.model is None:\n",
    "            self.model = GaussianNB()\n",
    "        \n",
    "        # Entraîner le modèle\n",
    "        self.model.fit(X, y)\n",
    "        return self\n",
    "    \n",
    "    def predict(self, X):\n",
    "        check_is_fitted(self)\n",
    "        X = validate_data(self, X, reset=False)\n",
    "        return self.model.predict(X)\n",
    "    \n",
    "    def predict_proba(self, X):\n",
    "        check_is_fitted(self)\n",
    "        X = validate_data(self, X, reset=False)\n",
    "        return self.model.predict_proba(X)"
   ]
  }
 ],
 "metadata": {
  "kernelspec": {
   "display_name": "Python 3",
   "language": "python",
   "name": "python3"
  },
  "language_info": {
   "name": "python",
   "version": "3.12.1"
  }
 },
 "nbformat": 4,
 "nbformat_minor": 5
}
